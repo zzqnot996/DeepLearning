{
  "nbformat": 4,
  "nbformat_minor": 0,
  "metadata": {
    "colab": {
      "provenance": [],
      "authorship_tag": "ABX9TyNN2hr7qBgO3gIYEIsrjcYK",
      "include_colab_link": true
    },
    "kernelspec": {
      "name": "python3",
      "display_name": "Python 3"
    },
    "language_info": {
      "name": "python"
    }
  },
  "cells": [
    {
      "cell_type": "markdown",
      "metadata": {
        "id": "view-in-github",
        "colab_type": "text"
      },
      "source": [
        "<a href=\"https://colab.research.google.com/github/zzqnot996/DeepLearning/blob/main/AverageMeter.ipynb\" target=\"_parent\"><img src=\"https://colab.research.google.com/assets/colab-badge.svg\" alt=\"Open In Colab\"/></a>"
      ]
    },
    {
      "cell_type": "code",
      "execution_count": 4,
      "metadata": {
        "colab": {
          "base_uri": "https://localhost:8080/"
        },
        "id": "t26p9LowPzB1",
        "outputId": "e58ecbbb-db2d-4a7b-d936-28b5c75a6fbf"
      },
      "outputs": [
        {
          "output_type": "stream",
          "name": "stdout",
          "text": [
            "<__main__.AverageMeter object at 0x7de03011ebf0>\n",
            "3.140000104904175\n"
          ]
        }
      ],
      "source": [
        "class AverageMeter(object):\n",
        "    \"\"\"Computes and stores the average and current value\"\"\"\n",
        "    def __init__(self):\n",
        "        self.reset()\n",
        "\n",
        "    def reset(self):\n",
        "        self.val = 0\n",
        "        self.avg = 0\n",
        "        self.sum = 0\n",
        "        self.count = 0\n",
        "\n",
        "    #==========================================================================================\n",
        "    # 更新 epoch_mse 对象内部的状态， 将当前均方误差值与之前的值进行某种组合， 计算移动平均\n",
        "    # 目的: 为了获得更平滑的均方误差曲线，以更好地理解模型的性能趋势，而不受每个批次的噪音影响\n",
        "    #==========================================================================================\n",
        "    def update(self, val, n=1):\n",
        "        self.val = val\n",
        "        self.sum += val * n\n",
        "        self.count += n\n",
        "        self.avg = 1.0 * self.sum / self.count\n",
        "\n",
        "    def get_avg(self):\n",
        "        return self.avg\n",
        "\n",
        "    def get_count(self):\n",
        "        return self.count\n",
        "\n",
        "\n",
        "import torch\n",
        "\n",
        "# 初始化一个标量张量\n",
        "scalar_tensor = torch.tensor(3.14)  # 用3.14初始化一个标量张量\n",
        "epoch_loss = AverageMeter()\n",
        "\n",
        "\n",
        "epoch_loss.update(scalar_tensor.item(), 16)\n",
        "print(epoch_loss)\n",
        "print(epoch_loss.val)"
      ]
    }
  ]
}