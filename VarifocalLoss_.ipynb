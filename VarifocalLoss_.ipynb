{
  "nbformat": 4,
  "nbformat_minor": 0,
  "metadata": {
    "colab": {
      "provenance": [],
      "authorship_tag": "ABX9TyOWyWQ1vNdneJ4ACFypdwlL",
      "include_colab_link": true
    },
    "kernelspec": {
      "name": "python3",
      "display_name": "Python 3"
    },
    "language_info": {
      "name": "python"
    }
  },
  "cells": [
    {
      "cell_type": "markdown",
      "metadata": {
        "id": "view-in-github",
        "colab_type": "text"
      },
      "source": [
        "<a href=\"https://colab.research.google.com/github/zzqnot996/DeepLearning/blob/main/VarifocalLoss_.ipynb\" target=\"_parent\"><img src=\"https://colab.research.google.com/assets/colab-badge.svg\" alt=\"Open In Colab\"/></a>"
      ]
    },
    {
      "cell_type": "markdown",
      "source": [
        "1. 【目标检测实验系列】YOLOv5改进实验：结合VariFocal Loss损失函数，减少小目标漏检问题，高效提升模型检测的召回率（超详细改进代码流程）\n",
        "\n",
        "https://blog.csdn.net/qq_32575047/article/details/130454459\n",
        "\n",
        "2. focal loss 通俗讲解\n",
        "\n",
        "https://zhuanlan.zhihu.com/p/266023273\n",
        "\n",
        "3. ValFocalLoss VarifocalNet 或VFNet\n",
        "\n",
        "https://blog.csdn.net/calvinpaean/article/details/115497134  4.2节\n",
        "\n",
        "\n",
        "\n",
        "\n",
        "VarifocalNet: An IoU-aware Dense Object Detector（CVPR 2021）\n",
        "\n",
        "paper：VarifocalNet: An IoU-aware Dense Object Detector\n",
        "\n",
        "official implementation：https://github.com/hyz-xmaster/VarifocalNet\n",
        "\n",
        "third-party implementation：mmdetection/vfnet_head.py at main · open-mmlab/mmdetection  \n"
      ],
      "metadata": {
        "id": "MFhJQKwQng97"
      }
    },
    {
      "cell_type": "code",
      "execution_count": null,
      "metadata": {
        "id": "bb9nDtBtm3Fa"
      },
      "outputs": [],
      "source": [
        "import torch\n",
        "from torch import nn\n",
        "\n",
        "class VFLoss(nn.Module):\n",
        "    def __init__(self, loss_fcn, gamma=1.5, alpha=0.25):\n",
        "        super(VFLoss, self).__init__()\n",
        "        # 传递 nn.BCEWithLogitsLoss() 损失函数  must be nn.BCEWithLogitsLoss()\n",
        "        self.loss_fcn = loss_fcn  #\n",
        "        self.gamma = gamma\n",
        "        self.alpha = alpha\n",
        "        self.reduction = loss_fcn.reduction\n",
        "        self.loss_fcn.reduction = 'none'  # required to apply VFL to each element\n",
        "\n",
        "    def forward(self, pred, true):\n",
        "\n",
        "        loss = self.loss_fcn(pred, true)\n",
        "\n",
        "        pred_prob = torch.sigmoid(pred)  # prob from logits\n",
        "\n",
        "        focal_weight = true * (true > 0.0).float() + self.alpha * (pred_prob - true).abs().pow(self.gamma) * (true <= 0.0).float()\n",
        "        loss *= focal_weight\n",
        "\n",
        "        if self.reduction == 'mean':\n",
        "            return loss.mean()\n",
        "        elif self.reduction == 'sum':\n",
        "            return loss.sum()\n",
        "        else:\n",
        "            return loss\n"
      ]
    }
  ]
}